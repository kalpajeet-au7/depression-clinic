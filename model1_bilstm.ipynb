{
  "metadata": {
    "kernelspec": {
      "language": "python",
      "display_name": "Python 3",
      "name": "python3"
    },
    "language_info": {
      "name": "python",
      "version": "3.7.12",
      "mimetype": "text/x-python",
      "codemirror_mode": {
        "name": "ipython",
        "version": 3
      },
      "pygments_lexer": "ipython3",
      "nbconvert_exporter": "python",
      "file_extension": ".py"
    },
    "colab": {
      "provenance": []
    }
  },
  "nbformat_minor": 0,
  "nbformat": 4,
  "cells": [
    {
      "cell_type": "code",
      "source": [
        "import numpy as np # linear algebra\n",
        "import pandas as pd # data processing, CSV file I/O (e.g. pd.read_csv)\n",
        "\n",
        "import os\n",
        "for dirname, _, filenames in os.walk('/kaggle/input'):\n",
        "    for filename in filenames:\n",
        "        print(os.path.join(dirname, filename))"
      ],
      "metadata": {
        "_uuid": "8f2839f25d086af736a60e9eeb907d3b93b6e0e5",
        "_cell_guid": "b1076dfc-b9ad-4769-8c92-a6c4dae69d19",
        "execution": {
          "iopub.status.busy": "2022-12-02T12:40:15.218215Z",
          "iopub.execute_input": "2022-12-02T12:40:15.219068Z",
          "iopub.status.idle": "2022-12-02T12:40:15.253466Z",
          "shell.execute_reply.started": "2022-12-02T12:40:15.218978Z",
          "shell.execute_reply": "2022-12-02T12:40:15.252373Z"
        },
        "trusted": true,
        "id": "KTKiBSkCn0sE"
      },
      "execution_count": null,
      "outputs": []
    },
    {
      "cell_type": "code",
      "source": [
        "import pandas as pd\n",
        "import numpy as np\n",
        "import matplotlib.pyplot as plt\n",
        "from nltk.tokenize import word_tokenize\n",
        "from nltk.stem import WordNetLemmatizer\n",
        "from nltk.stem import PorterStemmer\n",
        "from tqdm import tqdm\n",
        "from keras.models import Sequential\n",
        "from keras.layers.recurrent import LSTM, GRU\n",
        "from keras.layers.core import Dense, Activation, Dropout\n",
        "from keras.layers.embeddings import Embedding\n",
        "# from keras.layers.normalization import BatchNormalization\n",
        "from keras.utils import np_utils\n",
        "from keras.layers import GlobalMaxPooling1D, Conv1D, MaxPooling1D, Flatten, Bidirectional, SpatialDropout1D\n",
        "from sklearn.model_selection import train_test_split\n",
        "from keras.preprocessing import sequence\n",
        "from keras.preprocessing.text import Tokenizer\n",
        "from keras.callbacks import EarlyStopping\n",
        "import matplotlib.pyplot as plt\n",
        "from nltk.corpus import stopwords\n",
        "stop_words = stopwords.words('english')\n",
        "import tensorflow as tf\n",
        "print(tf.__version__)"
      ],
      "metadata": {
        "execution": {
          "iopub.status.busy": "2022-11-08T04:17:53.049184Z",
          "iopub.execute_input": "2022-11-08T04:17:53.049562Z",
          "iopub.status.idle": "2022-11-08T04:17:58.668333Z",
          "shell.execute_reply.started": "2022-11-08T04:17:53.049520Z",
          "shell.execute_reply": "2022-11-08T04:17:58.667334Z"
        },
        "trusted": true,
        "id": "aXsiIzZin0sJ"
      },
      "execution_count": null,
      "outputs": []
    },
    {
      "cell_type": "code",
      "source": [
        "import nltk\n",
        "nltk.download('omw-1.4')"
      ],
      "metadata": {
        "execution": {
          "iopub.status.busy": "2022-11-08T04:17:58.669563Z",
          "iopub.execute_input": "2022-11-08T04:17:58.670139Z",
          "iopub.status.idle": "2022-11-08T04:17:59.187350Z",
          "shell.execute_reply.started": "2022-11-08T04:17:58.670107Z",
          "shell.execute_reply": "2022-11-08T04:17:59.186243Z"
        },
        "trusted": true,
        "id": "uqfnSbNun0sK"
      },
      "execution_count": null,
      "outputs": []
    },
    {
      "cell_type": "code",
      "source": [
        "train = pd.read_csv('../input/dep-nlp/train.csv')\n",
        "dev = pd.read_csv('../input/dep-nlp/dev.csv')"
      ],
      "metadata": {
        "execution": {
          "iopub.status.busy": "2022-11-08T04:20:27.428203Z",
          "iopub.execute_input": "2022-11-08T04:20:27.428785Z",
          "iopub.status.idle": "2022-11-08T04:20:27.576311Z",
          "shell.execute_reply.started": "2022-11-08T04:20:27.428742Z",
          "shell.execute_reply": "2022-11-08T04:20:27.575193Z"
        },
        "trusted": true,
        "id": "Ts7Ofzo2n0sL"
      },
      "execution_count": null,
      "outputs": []
    },
    {
      "cell_type": "code",
      "source": [
        "train.head()"
      ],
      "metadata": {
        "execution": {
          "iopub.status.busy": "2022-11-08T04:20:27.696470Z",
          "iopub.execute_input": "2022-11-08T04:20:27.696823Z",
          "iopub.status.idle": "2022-11-08T04:20:27.712687Z",
          "shell.execute_reply.started": "2022-11-08T04:20:27.696792Z",
          "shell.execute_reply": "2022-11-08T04:20:27.711589Z"
        },
        "trusted": true,
        "id": "X8vjAEhyn0sL"
      },
      "execution_count": null,
      "outputs": []
    },
    {
      "cell_type": "code",
      "source": [
        "dev.head()"
      ],
      "metadata": {
        "execution": {
          "iopub.status.busy": "2022-11-08T04:20:27.872369Z",
          "iopub.execute_input": "2022-11-08T04:20:27.872964Z",
          "iopub.status.idle": "2022-11-08T04:20:27.895602Z",
          "shell.execute_reply.started": "2022-11-08T04:20:27.872911Z",
          "shell.execute_reply": "2022-11-08T04:20:27.894679Z"
        },
        "trusted": true,
        "id": "EB6sc0Lkn0sM"
      },
      "execution_count": null,
      "outputs": []
    },
    {
      "cell_type": "code",
      "source": [
        "train = train.drop('id', axis=1)\n",
        "dev = dev.drop('id', axis=1)"
      ],
      "metadata": {
        "execution": {
          "iopub.status.busy": "2022-11-08T04:20:28.107140Z",
          "iopub.execute_input": "2022-11-08T04:20:28.107807Z",
          "iopub.status.idle": "2022-11-08T04:20:28.120775Z",
          "shell.execute_reply.started": "2022-11-08T04:20:28.107762Z",
          "shell.execute_reply": "2022-11-08T04:20:28.119691Z"
        },
        "trusted": true,
        "id": "PtOoYeYyn0sM"
      },
      "execution_count": null,
      "outputs": []
    },
    {
      "cell_type": "code",
      "source": [
        "frames = [train, dev]\n",
        "df = pd.concat(frames)"
      ],
      "metadata": {
        "execution": {
          "iopub.status.busy": "2022-11-08T04:20:28.306845Z",
          "iopub.execute_input": "2022-11-08T04:20:28.307209Z",
          "iopub.status.idle": "2022-11-08T04:20:28.315324Z",
          "shell.execute_reply.started": "2022-11-08T04:20:28.307174Z",
          "shell.execute_reply": "2022-11-08T04:20:28.313954Z"
        },
        "trusted": true,
        "id": "_CBnB02cn0sN"
      },
      "execution_count": null,
      "outputs": []
    },
    {
      "cell_type": "code",
      "source": [
        "df.head()"
      ],
      "metadata": {
        "execution": {
          "iopub.status.busy": "2022-11-08T04:20:28.513307Z",
          "iopub.execute_input": "2022-11-08T04:20:28.514193Z",
          "iopub.status.idle": "2022-11-08T04:20:28.525730Z",
          "shell.execute_reply.started": "2022-11-08T04:20:28.514147Z",
          "shell.execute_reply": "2022-11-08T04:20:28.524527Z"
        },
        "trusted": true,
        "id": "XIMNMH6Tn0sO"
      },
      "execution_count": null,
      "outputs": []
    },
    {
      "cell_type": "code",
      "source": [
        "df.insert(0, 'id', range(0, len(df)))\n",
        "df.head()"
      ],
      "metadata": {
        "execution": {
          "iopub.status.busy": "2022-11-08T04:20:28.700272Z",
          "iopub.execute_input": "2022-11-08T04:20:28.700892Z",
          "iopub.status.idle": "2022-11-08T04:20:28.713136Z",
          "shell.execute_reply.started": "2022-11-08T04:20:28.700859Z",
          "shell.execute_reply": "2022-11-08T04:20:28.712052Z"
        },
        "trusted": true,
        "id": "OK6HDD1An0sO"
      },
      "execution_count": null,
      "outputs": []
    },
    {
      "cell_type": "code",
      "source": [
        "df.label.unique()"
      ],
      "metadata": {
        "execution": {
          "iopub.status.busy": "2022-11-08T04:20:28.918542Z",
          "iopub.execute_input": "2022-11-08T04:20:28.919399Z",
          "iopub.status.idle": "2022-11-08T04:20:28.926913Z",
          "shell.execute_reply.started": "2022-11-08T04:20:28.919349Z",
          "shell.execute_reply": "2022-11-08T04:20:28.925844Z"
        },
        "trusted": true,
        "id": "8s2Zfgxjn0sP"
      },
      "execution_count": null,
      "outputs": []
    },
    {
      "cell_type": "code",
      "source": [
        "possible_labels = df.label.unique()\n",
        "\n",
        "label_dict = {}\n",
        "for index, possible_label in enumerate(possible_labels):\n",
        "    label_dict[possible_label] = index\n",
        "print(label_dict)\n",
        "# df['label'] = df.label.replace(label_dict)\n",
        "# dev_clean['label'] = dev_clean.label.replace(label_dict)\n"
      ],
      "metadata": {
        "execution": {
          "iopub.status.busy": "2022-11-08T04:20:29.693805Z",
          "iopub.execute_input": "2022-11-08T04:20:29.694680Z",
          "iopub.status.idle": "2022-11-08T04:20:29.702316Z",
          "shell.execute_reply.started": "2022-11-08T04:20:29.694640Z",
          "shell.execute_reply": "2022-11-08T04:20:29.701093Z"
        },
        "trusted": true,
        "id": "f2R4-AsEn0sP"
      },
      "execution_count": null,
      "outputs": []
    },
    {
      "cell_type": "code",
      "source": [
        "df.info()"
      ],
      "metadata": {
        "execution": {
          "iopub.status.busy": "2022-11-08T04:20:30.093263Z",
          "iopub.execute_input": "2022-11-08T04:20:30.093975Z",
          "iopub.status.idle": "2022-11-08T04:20:30.109613Z",
          "shell.execute_reply.started": "2022-11-08T04:20:30.093929Z",
          "shell.execute_reply": "2022-11-08T04:20:30.108579Z"
        },
        "trusted": true,
        "id": "lTP9Bh58n0sQ"
      },
      "execution_count": null,
      "outputs": []
    },
    {
      "cell_type": "code",
      "source": [
        "df['text']=df['text'].str.lower()"
      ],
      "metadata": {
        "execution": {
          "iopub.status.busy": "2022-11-08T04:20:36.894021Z",
          "iopub.execute_input": "2022-11-08T04:20:36.894401Z",
          "iopub.status.idle": "2022-11-08T04:20:36.924704Z",
          "shell.execute_reply.started": "2022-11-08T04:20:36.894367Z",
          "shell.execute_reply": "2022-11-08T04:20:36.923321Z"
        },
        "trusted": true,
        "id": "BknQnHwfn0sQ"
      },
      "execution_count": null,
      "outputs": []
    },
    {
      "cell_type": "code",
      "source": [
        "# lemmatization\n",
        "def getLemmText(text):\n",
        " tokens=word_tokenize(text)\n",
        " lemmatizer = WordNetLemmatizer()\n",
        " tokens=[lemmatizer.lemmatize(word) for word in tokens]\n",
        " return ' '.join(tokens)\n",
        "\n",
        "df['text'] = list(map(getLemmText,df['text']))"
      ],
      "metadata": {
        "execution": {
          "iopub.status.busy": "2022-11-08T04:20:38.512910Z",
          "iopub.execute_input": "2022-11-08T04:20:38.513279Z",
          "iopub.status.idle": "2022-11-08T04:21:03.818862Z",
          "shell.execute_reply.started": "2022-11-08T04:20:38.513247Z",
          "shell.execute_reply": "2022-11-08T04:21:03.817888Z"
        },
        "trusted": true,
        "id": "jFfMxDUnn0sR"
      },
      "execution_count": null,
      "outputs": []
    },
    {
      "cell_type": "code",
      "source": [
        "# stemming\n",
        "def getStemmText(text):\n",
        "    tokens=word_tokenize(text)\n",
        "    ps = PorterStemmer()\n",
        "    tokens=[ps.stem(word) for word in tokens]\n",
        "    return ' '.join(tokens)\n",
        "\n",
        "df['text'] = list(map(getStemmText,df['text']))"
      ],
      "metadata": {
        "execution": {
          "iopub.status.busy": "2022-11-08T04:21:03.820688Z",
          "iopub.execute_input": "2022-11-08T04:21:03.821075Z",
          "iopub.status.idle": "2022-11-08T04:21:56.647342Z",
          "shell.execute_reply.started": "2022-11-08T04:21:03.821035Z",
          "shell.execute_reply": "2022-11-08T04:21:56.646341Z"
        },
        "trusted": true,
        "id": "0WISWGx3n0sR"
      },
      "execution_count": null,
      "outputs": []
    },
    {
      "cell_type": "code",
      "source": [
        "# train test split\n",
        "xtrain, xtest, ytrain, ytest = train_test_split(\n",
        " df['text'], df['label'], \n",
        " test_size=0.33, \n",
        " random_state=53)\n",
        "\n",
        "print(xtrain.shape)\n",
        "print(xtest.shape)\n",
        "print(ytrain)"
      ],
      "metadata": {
        "execution": {
          "iopub.status.busy": "2022-11-08T04:21:56.648815Z",
          "iopub.execute_input": "2022-11-08T04:21:56.649184Z",
          "iopub.status.idle": "2022-11-08T04:21:56.663687Z",
          "shell.execute_reply.started": "2022-11-08T04:21:56.649146Z",
          "shell.execute_reply": "2022-11-08T04:21:56.662677Z"
        },
        "trusted": true,
        "id": "6qZncaZTn0sR"
      },
      "execution_count": null,
      "outputs": []
    },
    {
      "cell_type": "code",
      "source": [
        "EMBEDDING_DIMENSION = 64\n",
        "VOCABULARY_SIZE = 2000\n",
        "MAX_LENGTH = 100\n",
        "OOV_TOK = '<OOV>'\n",
        "TRUNCATE_TYPE = 'post'\n",
        "PADDING_TYPE = 'post'"
      ],
      "metadata": {
        "execution": {
          "iopub.status.busy": "2022-11-08T04:21:56.666023Z",
          "iopub.execute_input": "2022-11-08T04:21:56.666432Z",
          "iopub.status.idle": "2022-11-08T04:21:56.672099Z",
          "shell.execute_reply.started": "2022-11-08T04:21:56.666387Z",
          "shell.execute_reply": "2022-11-08T04:21:56.670218Z"
        },
        "trusted": true,
        "id": "fRItYvE4n0sS"
      },
      "execution_count": null,
      "outputs": []
    },
    {
      "cell_type": "code",
      "source": [
        "tokenizer = Tokenizer(num_words=VOCABULARY_SIZE, oov_token=OOV_TOK)\n",
        "tokenizer.fit_on_texts(list(xtrain) + list(xtest))"
      ],
      "metadata": {
        "execution": {
          "iopub.status.busy": "2022-11-08T04:22:43.313450Z",
          "iopub.execute_input": "2022-11-08T04:22:43.313859Z",
          "iopub.status.idle": "2022-11-08T04:22:44.745929Z",
          "shell.execute_reply.started": "2022-11-08T04:22:43.313828Z",
          "shell.execute_reply": "2022-11-08T04:22:44.744930Z"
        },
        "trusted": true,
        "id": "Prn3hW_qn0sS"
      },
      "execution_count": null,
      "outputs": []
    },
    {
      "cell_type": "code",
      "source": [
        "xtrain_sequences = tokenizer.texts_to_sequences(xtrain)\n",
        "xtest_sequences = tokenizer.texts_to_sequences(xtest)\n",
        "word_index = tokenizer.word_index\n",
        "print('Vocabulary size:', len(word_index))\n",
        "dict(list(word_index.items())[0:10])"
      ],
      "metadata": {
        "execution": {
          "iopub.status.busy": "2022-11-08T04:22:44.952751Z",
          "iopub.execute_input": "2022-11-08T04:22:44.953084Z",
          "iopub.status.idle": "2022-11-08T04:22:46.105569Z",
          "shell.execute_reply.started": "2022-11-08T04:22:44.953053Z",
          "shell.execute_reply": "2022-11-08T04:22:46.104540Z"
        },
        "trusted": true,
        "id": "QqH4AEDwn0sS"
      },
      "execution_count": null,
      "outputs": []
    },
    {
      "cell_type": "code",
      "source": [
        "print(xtrain_sequences[100])"
      ],
      "metadata": {
        "execution": {
          "iopub.status.busy": "2022-11-08T04:22:47.203931Z",
          "iopub.execute_input": "2022-11-08T04:22:47.204662Z",
          "iopub.status.idle": "2022-11-08T04:22:47.210714Z",
          "shell.execute_reply.started": "2022-11-08T04:22:47.204621Z",
          "shell.execute_reply": "2022-11-08T04:22:47.209580Z"
        },
        "trusted": true,
        "id": "yqfO2YAvn0sT"
      },
      "execution_count": null,
      "outputs": []
    },
    {
      "cell_type": "code",
      "source": [
        "xtrain_pad = sequence.pad_sequences(xtrain_sequences, maxlen=MAX_LENGTH, padding=PADDING_TYPE, truncating=TRUNCATE_TYPE)\n",
        "xtest_pad = sequence.pad_sequences(xtest_sequences, maxlen=MAX_LENGTH, padding=PADDING_TYPE, truncating=TRUNCATE_TYPE)\n",
        "print(len(xtrain_sequences[0]))\n",
        "print(len(xtrain_pad[0]))\n",
        "print(xtrain_pad[100])"
      ],
      "metadata": {
        "execution": {
          "iopub.status.busy": "2022-11-08T04:22:48.563487Z",
          "iopub.execute_input": "2022-11-08T04:22:48.563852Z",
          "iopub.status.idle": "2022-11-08T04:22:48.666995Z",
          "shell.execute_reply.started": "2022-11-08T04:22:48.563820Z",
          "shell.execute_reply": "2022-11-08T04:22:48.665912Z"
        },
        "trusted": true,
        "id": "3ze0GwD5n0sT"
      },
      "execution_count": null,
      "outputs": []
    },
    {
      "cell_type": "code",
      "source": [
        "label_tokenizer = Tokenizer()\n",
        "label_tokenizer.fit_on_texts(list(ytrain))\n",
        "training_label_seq = np.array(label_tokenizer.texts_to_sequences(ytrain))\n",
        "test_label_seq = np.array(label_tokenizer.texts_to_sequences(ytest))\n",
        "print(training_label_seq[0])\n",
        "print(training_label_seq[1])\n",
        "print(training_label_seq[2])\n",
        "print(training_label_seq.shape)"
      ],
      "metadata": {
        "execution": {
          "iopub.status.busy": "2022-11-08T04:22:50.473797Z",
          "iopub.execute_input": "2022-11-08T04:22:50.474502Z",
          "iopub.status.idle": "2022-11-08T04:22:50.643173Z",
          "shell.execute_reply.started": "2022-11-08T04:22:50.474460Z",
          "shell.execute_reply": "2022-11-08T04:22:50.642210Z"
        },
        "trusted": true,
        "id": "1s1pf7Uwn0sT"
      },
      "execution_count": null,
      "outputs": []
    },
    {
      "cell_type": "code",
      "source": [
        "reverse_word_index = dict([(value, key) for (key, value) in word_index.items()])\n",
        "def decode_article(text):\n",
        " return ' '.join([reverse_word_index.get(i, '?') for i in text])\n",
        "print(decode_article(xtrain_pad[11]))"
      ],
      "metadata": {
        "execution": {
          "iopub.status.busy": "2022-11-08T04:22:52.426267Z",
          "iopub.execute_input": "2022-11-08T04:22:52.427221Z",
          "iopub.status.idle": "2022-11-08T04:22:52.440630Z",
          "shell.execute_reply.started": "2022-11-08T04:22:52.427184Z",
          "shell.execute_reply": "2022-11-08T04:22:52.439393Z"
        },
        "trusted": true,
        "id": "-_oyluhdn0sU"
      },
      "execution_count": null,
      "outputs": []
    },
    {
      "cell_type": "code",
      "source": [
        "# with embedding layer\n",
        "\n",
        "model = Sequential()\n",
        "model.add(Embedding(len(word_index) + 1,\n",
        "                     EMBEDDING_DIMENSION))\n",
        "model.add(SpatialDropout1D(0.3))\n",
        "model.add(Bidirectional(LSTM(EMBEDDING_DIMENSION, dropout=0.3, recurrent_dropout=0.3)))\n",
        "model.add(Dense(EMBEDDING_DIMENSION, activation='relu'))\n",
        "model.add(Dropout(0.8))\n",
        "model.add(Dense(EMBEDDING_DIMENSION, activation='relu'))\n",
        "model.add(Dropout(0.8))\n",
        "model.add(Dense(3))\n",
        "model.add(Activation('softmax'))\n",
        "model.compile(loss='sparse_categorical_crossentropy', optimizer='adam',metrics=['accuracy'])"
      ],
      "metadata": {
        "execution": {
          "iopub.status.busy": "2022-11-08T04:22:53.532246Z",
          "iopub.execute_input": "2022-11-08T04:22:53.532632Z",
          "iopub.status.idle": "2022-11-08T04:22:56.578486Z",
          "shell.execute_reply.started": "2022-11-08T04:22:53.532599Z",
          "shell.execute_reply": "2022-11-08T04:22:56.577469Z"
        },
        "trusted": true,
        "id": "Nx45k1Nen0sU"
      },
      "execution_count": null,
      "outputs": []
    },
    {
      "cell_type": "code",
      "source": [
        "# training_label_seq"
      ],
      "metadata": {
        "execution": {
          "iopub.status.busy": "2022-11-08T04:22:56.580599Z",
          "iopub.execute_input": "2022-11-08T04:22:56.580967Z",
          "iopub.status.idle": "2022-11-08T04:22:56.586401Z",
          "shell.execute_reply.started": "2022-11-08T04:22:56.580929Z",
          "shell.execute_reply": "2022-11-08T04:22:56.584987Z"
        },
        "trusted": true,
        "id": "l0xqKkcBn0sU"
      },
      "execution_count": null,
      "outputs": []
    },
    {
      "cell_type": "code",
      "source": [
        "type(xtrain_pad)\n",
        "# xtrain_pad = np.asarray(xtrain_pad).astype(np.float32)\n",
        "# xtest_pad = np.asarray(xtest_pad).astype(np.float32)\n",
        "# training_label_seq = np.asarray(training_label_seq).astype(np.float32)\n",
        "# test_label_seq = np.asarray(test_label_seq).astype(np.float32)"
      ],
      "metadata": {
        "execution": {
          "iopub.status.busy": "2022-11-08T04:22:56.588649Z",
          "iopub.execute_input": "2022-11-08T04:22:56.589086Z",
          "iopub.status.idle": "2022-11-08T04:22:56.598098Z",
          "shell.execute_reply.started": "2022-11-08T04:22:56.589017Z",
          "shell.execute_reply": "2022-11-08T04:22:56.596899Z"
        },
        "trusted": true,
        "id": "VUY2IXHBn0sV"
      },
      "execution_count": null,
      "outputs": []
    },
    {
      "cell_type": "code",
      "source": [
        "training_label_seq = np.array([np.array(xi) for xi in training_label_seq])\n",
        "test_label_seq = np.array([np.array(yi) for yi in test_label_seq])"
      ],
      "metadata": {
        "execution": {
          "iopub.status.busy": "2022-11-08T04:23:27.305090Z",
          "iopub.execute_input": "2022-11-08T04:23:27.305473Z",
          "iopub.status.idle": "2022-11-08T04:23:27.326508Z",
          "shell.execute_reply.started": "2022-11-08T04:23:27.305440Z",
          "shell.execute_reply": "2022-11-08T04:23:27.324928Z"
        },
        "trusted": true,
        "id": "wT3KYM8cn0sV"
      },
      "execution_count": null,
      "outputs": []
    },
    {
      "cell_type": "code",
      "source": [
        "xtrain_pad = tf.convert_to_tensor(xtrain_pad, dtype=tf.int64) \n",
        "xtest_pad = tf.convert_to_tensor(xtest_pad, dtype=tf.int64) \n",
        "training_label_seq = tf.convert_to_tensor(training_label_seq, dtype=tf.int64) \n",
        "test_label_seq = tf.convert_to_tensor(test_label_seq, dtype=tf.int64) "
      ],
      "metadata": {
        "execution": {
          "iopub.status.busy": "2022-11-08T04:24:54.930441Z",
          "iopub.execute_input": "2022-11-08T04:24:54.930799Z",
          "iopub.status.idle": "2022-11-08T04:24:54.974765Z",
          "shell.execute_reply.started": "2022-11-08T04:24:54.930770Z",
          "shell.execute_reply": "2022-11-08T04:24:54.973282Z"
        },
        "trusted": true,
        "id": "wklItGXWn0sV"
      },
      "execution_count": null,
      "outputs": []
    },
    {
      "cell_type": "code",
      "source": [
        "# training_label_seq = np.asarray(training_label_seq).astype(np.float32)\n",
        "# test_label_seq = np.asarray(test_label_seq).astype(np.float32)"
      ],
      "metadata": {
        "execution": {
          "iopub.status.busy": "2022-11-08T04:22:58.330633Z",
          "iopub.execute_input": "2022-11-08T04:22:58.331645Z",
          "iopub.status.idle": "2022-11-08T04:22:58.336461Z",
          "shell.execute_reply.started": "2022-11-08T04:22:58.331598Z",
          "shell.execute_reply": "2022-11-08T04:22:58.335427Z"
        },
        "trusted": true,
        "id": "hnajdKpmn0sV"
      },
      "execution_count": null,
      "outputs": []
    },
    {
      "cell_type": "code",
      "source": [
        "num_epochs = 10\n",
        "history = model.fit(xtrain_pad, training_label_seq, epochs=num_epochs, validation_data=(xtest_pad, test_label_seq), verbose=2)"
      ],
      "metadata": {
        "execution": {
          "iopub.status.busy": "2022-11-08T04:22:58.673815Z",
          "iopub.execute_input": "2022-11-08T04:22:58.674267Z",
          "iopub.status.idle": "2022-11-08T04:22:58.725136Z",
          "shell.execute_reply.started": "2022-11-08T04:22:58.674226Z",
          "shell.execute_reply": "2022-11-08T04:22:58.723354Z"
        },
        "trusted": true,
        "id": "w4biZRAVn0sV"
      },
      "execution_count": null,
      "outputs": []
    },
    {
      "cell_type": "code",
      "source": [
        "embeddings = np.load(\"stacked.npy\")\n",
        "labels = np.load(\"labels.npy\")\n",
        "x_train, x_test, y_train, y_test = train_test_split(embeddings, labels, test_size=0.3, random_state=42)"
      ],
      "metadata": {
        "id": "0lc4Ipr2pktS"
      },
      "execution_count": null,
      "outputs": []
    },
    {
      "cell_type": "code",
      "source": [
        "# proposed BiLSTM model\n",
        "EMBEDDING_DIMENSION = 768\n",
        "\n",
        "model1 = Sequential()\n",
        "model1.add(Bidirectional(LSTM(EMBEDDING_DIMENSION)))\n",
        "model1.add(SpatialDropout1D(0.7))\n",
        "model1.add(Dense(64, activation='relu'))\n",
        "model1.add(Dropout(0.4))\n",
        "model1.add(Dense(16, activation='relu'))\n",
        "model1.add(Dropout(0.4))\n",
        "model1.add(Dense(3))\n",
        "model1.add(Activation('softmax'))\n",
        "model1.compile(loss='sparse_categorical_crossentropy', optimizer='adam',metrics=['accuracy'])"
      ],
      "metadata": {
        "id": "24zfK-yWn0sW"
      },
      "execution_count": null,
      "outputs": []
    },
    {
      "cell_type": "code",
      "source": [
        "num_epochs = 30\n",
        "early_stop = EarlyStopping(monitor='val_loss', patience=3)\n",
        "history = model.fit(x_train,\n",
        "                    y_train,\n",
        "                    epochs=num_epochs, \n",
        "                    validation_data=(x_test, y_test),\n",
        "                    verbose=2)"
      ],
      "metadata": {
        "id": "-O5RUXmuqju2"
      },
      "execution_count": null,
      "outputs": []
    },
    {
      "cell_type": "code",
      "source": [
        "pred = model1.predict(x_test)\n",
        "print(\"Accuracy for stacked embeddings (without balancing)\")\n",
        "# Model Accuracy: how often is the classifier correct?\n",
        "print(\"Accuracy:\", metrics.accuracy_score(pred, y_test))\n",
        "print(classification_report(pred, y_test))"
      ],
      "metadata": {
        "id": "jB9fFXS_qqvs"
      },
      "execution_count": null,
      "outputs": []
    }
  ]
}