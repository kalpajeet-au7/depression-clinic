{
  "nbformat": 4,
  "nbformat_minor": 0,
  "metadata": {
    "colab": {
      "provenance": []
    },
    "kernelspec": {
      "name": "python3",
      "display_name": "Python 3"
    },
    "language_info": {
      "name": "python"
    },
    "gpuClass": "standard",
    "accelerator": "GPU"
  },
  "cells": [
    {
      "cell_type": "markdown",
      "source": [
        "# Libraries"
      ],
      "metadata": {
        "id": "8p9iUTyCgtXo"
      }
    },
    {
      "cell_type": "code",
      "execution_count": null,
      "metadata": {
        "id": "cgKajT86grKB"
      },
      "outputs": [],
      "source": [
        "from google.colab import drive\n",
        "drive.mount(\"/content/gdrive\")"
      ]
    },
    {
      "cell_type": "code",
      "source": [
        "!pip install contractions "
      ],
      "metadata": {
        "id": "426EhFxZkD0e"
      },
      "execution_count": null,
      "outputs": []
    },
    {
      "cell_type": "code",
      "source": [
        "!pip install transformers"
      ],
      "metadata": {
        "id": "z2wRWuOlkJLC"
      },
      "execution_count": null,
      "outputs": []
    },
    {
      "cell_type": "code",
      "source": [
        "import pandas as pd\n",
        "import numpy as np\n",
        "import re\n",
        "import string\n",
        "import math\n",
        "import contractions\n",
        "from collections import Counter"
      ],
      "metadata": {
        "id": "X-Prg7prhBea"
      },
      "execution_count": null,
      "outputs": []
    },
    {
      "cell_type": "code",
      "source": [
        "import nltk\n",
        "from nltk.corpus import stopwords\n",
        "from nltk.stem import WordNetLemmatizer\n",
        "nltk.download(\"stopwords\")\n",
        "nltk.download(\"wordnet\")\n",
        "nltk.download('omw-1.4')\n",
        "\n",
        "stop_words = set(stopwords.words('english'))\n",
        "lemmatizer = WordNetLemmatizer()"
      ],
      "metadata": {
        "id": "6Q3RwNsHhDaH"
      },
      "execution_count": null,
      "outputs": []
    },
    {
      "cell_type": "code",
      "source": [
        "import tensorflow as tf\n",
        "from keras.preprocessing import sequence\n",
        "from keras.models import Sequential\n",
        "from keras.layers import Dense, Dropout, Embedding, LSTM, Bidirectional"
      ],
      "metadata": {
        "id": "aPCyfeRlg3gG"
      },
      "execution_count": null,
      "outputs": []
    },
    {
      "cell_type": "code",
      "source": [
        "from sklearn.model_selection import train_test_split\n",
        "from sklearn.metrics import classification_report, multilabel_confusion_matrix\n",
        "from sklearn.model_selection import cross_val_score\n",
        "from sklearn import metrics"
      ],
      "metadata": {
        "id": "PNXIYkmIhJgH"
      },
      "execution_count": null,
      "outputs": []
    },
    {
      "cell_type": "code",
      "source": [
        "from sklearn.multiclass import OneVsRestClassifier\n",
        "from sklearn import svm\n",
        "from sklearn.preprocessing import StandardScaler\n",
        "from sklearn.pipeline import make_pipeline\n",
        "from sklearn.svm import SVC"
      ],
      "metadata": {
        "id": "R2g6XvIQhSE_"
      },
      "execution_count": null,
      "outputs": []
    },
    {
      "cell_type": "markdown",
      "source": [
        "# Reading data"
      ],
      "metadata": {
        "id": "2BlOuCpLhPqa"
      }
    },
    {
      "cell_type": "code",
      "source": [
        "path = \"/content/gdrive/MyDrive/dep-nlp/\""
      ],
      "metadata": {
        "id": "p8zzrIpthOh-"
      },
      "execution_count": null,
      "outputs": []
    },
    {
      "cell_type": "code",
      "source": [
        "train_data = pd.read_csv(path+'data/train.csv')\n",
        "train_data.head()"
      ],
      "metadata": {
        "id": "-DBfWuPjhl8M"
      },
      "execution_count": null,
      "outputs": []
    },
    {
      "cell_type": "code",
      "source": [
        "# train_data = train_data.rename(columns={'PID': 'id', 'Text_data': 'text', 'Label': 'label'})"
      ],
      "metadata": {
        "id": "uWsJQHFThslU"
      },
      "execution_count": null,
      "outputs": []
    },
    {
      "cell_type": "code",
      "source": [
        "test_data = pd.read_csv(path+'data/test.csv')\n",
        "test_data.head()"
      ],
      "metadata": {
        "id": "9mkxWAJOh1QB"
      },
      "execution_count": null,
      "outputs": []
    },
    {
      "cell_type": "code",
      "source": [
        "# test_data = test_data.rename(columns={'Pid': 'id', 'text data': 'text'})"
      ],
      "metadata": {
        "id": "Sh3Lrawch722"
      },
      "execution_count": null,
      "outputs": []
    },
    {
      "cell_type": "code",
      "source": [
        "dev_data = pd.read_csv(path+'data/dev.csv')\n",
        "dev_data.head()"
      ],
      "metadata": {
        "id": "OgMm1Vmrly_Z"
      },
      "execution_count": null,
      "outputs": []
    },
    {
      "cell_type": "code",
      "source": [
        "# dev_data = dev_data.rename(columns={'PID': 'id', 'Text data': 'text', 'Label': 'label'})"
      ],
      "metadata": {
        "id": "ID49AUGGl57G"
      },
      "execution_count": null,
      "outputs": []
    },
    {
      "cell_type": "code",
      "source": [
        "train_data.to_csv('train.csv',index=False)\n",
        "dev_data.to_csv('dev.csv', index=False)\n",
        "test_data.to_csv('test.csv', index=False)"
      ],
      "metadata": {
        "id": "yheaAX5wTvc9"
      },
      "execution_count": null,
      "outputs": []
    },
    {
      "cell_type": "code",
      "source": [
        "possible_labels = train_data.label.unique()\n",
        "\n",
        "label_dict = {}\n",
        "for index, possible_label in enumerate(possible_labels):\n",
        "    label_dict[possible_label] = index\n",
        "label_dict"
      ],
      "metadata": {
        "id": "5FAVS4ce4ZFV"
      },
      "execution_count": null,
      "outputs": []
    },
    {
      "cell_type": "code",
      "source": [
        "train_data['label'] = train_data.label.replace(label_dict)\n",
        "dev_data['label'] = dev_data.label.replace(label_dict)"
      ],
      "metadata": {
        "id": "AY14zav64cIm"
      },
      "execution_count": null,
      "outputs": []
    },
    {
      "cell_type": "code",
      "source": [
        "from collections import Counter\n",
        "\n",
        "print('train')\n",
        "print(Counter(train_data['label']).keys()) # unique elements\n",
        "print(Counter(train_data['label']).values()) # counts the elements' frequency\n",
        "\n",
        "print('dev')\n",
        "print(Counter(dev_data['label']).keys()) # unique elements\n",
        "print(Counter(dev_data['label']).values()) # counts the elements' frequency"
      ],
      "metadata": {
        "id": "CAPLVl_C4e7F"
      },
      "execution_count": null,
      "outputs": []
    },
    {
      "cell_type": "code",
      "source": [
        "dev_data.head()"
      ],
      "metadata": {
        "id": "Nj-oba1r7kqB"
      },
      "execution_count": null,
      "outputs": []
    },
    {
      "cell_type": "markdown",
      "source": [
        "# Preprocessing"
      ],
      "metadata": {
        "id": "0SoerxkCjwos"
      }
    },
    {
      "cell_type": "code",
      "source": [
        "def preprocess(text):\n",
        "\n",
        "  text=contractions.fix(text) # expanding the contractions\n",
        "  text=text.lower() # lowering the text\n",
        "  text=re.sub(r'[^\\w\\s]', '', text) # removing the punctuation\n",
        "  text=''.join([i for i in text if not i.isdigit()]) # removing the digits and words containing the digits\n",
        "  text=\" \".join([word for word in str(text).split() if word not in stop_words]) # removing the stopwords\n",
        "  text=\" \".join([lemmatizer.lemmatize(word) for word in text.split()]) # lemmatizing the words\n",
        "\n",
        "  return text"
      ],
      "metadata": {
        "id": "30eB1hWWh_cC"
      },
      "execution_count": null,
      "outputs": []
    },
    {
      "cell_type": "code",
      "source": [
        "train_data['text'] = train_data['text'].apply(lambda x: preprocess(x))"
      ],
      "metadata": {
        "id": "NpAU7IR4kS8p"
      },
      "execution_count": null,
      "outputs": []
    },
    {
      "cell_type": "code",
      "source": [
        "test_data['text'] = test_data['text'].apply(lambda x: preprocess(x))"
      ],
      "metadata": {
        "id": "bL9cVfgOkaRU"
      },
      "execution_count": null,
      "outputs": []
    },
    {
      "cell_type": "code",
      "source": [
        "dev_data['text'] = dev_data['text'].apply(lambda x: preprocess(x))"
      ],
      "metadata": {
        "id": "q97LAtaMmCJ_"
      },
      "execution_count": null,
      "outputs": []
    },
    {
      "cell_type": "code",
      "source": [
        "# train_data.iloc[0]['text']"
      ],
      "metadata": {
        "id": "omSJAiipkeOs"
      },
      "execution_count": null,
      "outputs": []
    },
    {
      "cell_type": "code",
      "source": [
        "train_data.to_csv('train-preprocess.csv')\n",
        "test_data.to_csv('test-preprocess.csv')\n",
        "dev_data.to_csv('dev-preprocess.csv')"
      ],
      "metadata": {
        "id": "irsLjLyflhV1"
      },
      "execution_count": null,
      "outputs": []
    },
    {
      "cell_type": "code",
      "source": [
        "train_data.head()"
      ],
      "metadata": {
        "id": "m_-BcuHuxhIx"
      },
      "execution_count": null,
      "outputs": []
    },
    {
      "cell_type": "markdown",
      "source": [
        "# Generate embeddings"
      ],
      "metadata": {
        "id": "wb7L7oaPlKDW"
      }
    },
    {
      "cell_type": "code",
      "source": [
        "from transformers import AutoTokenizer, AutoModel"
      ],
      "metadata": {
        "id": "LKfVwW5unqCU"
      },
      "execution_count": null,
      "outputs": []
    },
    {
      "cell_type": "markdown",
      "source": [
        "### Mental-bert\n",
        "https://huggingface.co/mental/mental-bert-base-uncased?text=The+goal+of+life+is+%5BMASK%5D."
      ],
      "metadata": {
        "id": "puMh5yeHnKfr"
      }
    },
    {
      "cell_type": "code",
      "source": [
        "tokenizer1 = AutoTokenizer.from_pretrained(\"mental/mental-bert-base-uncased\")\n",
        "model1 = AutoModel.from_pretrained(\"mental/mental-bert-base-uncased\")"
      ],
      "metadata": {
        "id": "Ln3r8UQ8nJV9"
      },
      "execution_count": null,
      "outputs": []
    },
    {
      "cell_type": "markdown",
      "source": [
        "### MentalRoBERTa\n",
        "https://huggingface.co/mental/mental-roberta-base?text=The+goal+of+life+is+%3Cmask%3E."
      ],
      "metadata": {
        "id": "ag67Pa8YngRu"
      }
    },
    {
      "cell_type": "code",
      "source": [
        "tokenizer2 = AutoTokenizer.from_pretrained(\"mental/mental-roberta-base\")\n",
        "model2 = AutoModel.from_pretrained(\"mental/mental-roberta-base\")"
      ],
      "metadata": {
        "id": "WHZg0fP2knx-"
      },
      "execution_count": null,
      "outputs": []
    },
    {
      "cell_type": "markdown",
      "source": [
        "### Bio+Clinical BERT\n",
        "https://huggingface.co/emilyalsentzer/Bio_ClinicalBERT?text=Paris+is+the+%5BMASK%5D+of+France."
      ],
      "metadata": {
        "id": "rSIDm6ceoOIz"
      }
    },
    {
      "cell_type": "code",
      "source": [
        "tokenizer3 = AutoTokenizer.from_pretrained(\"emilyalsentzer/Bio_ClinicalBERT\")\n",
        "model3 = AutoModel.from_pretrained(\"emilyalsentzer/Bio_ClinicalBERT\")"
      ],
      "metadata": {
        "id": "fmcgd943ntWZ"
      },
      "execution_count": null,
      "outputs": []
    },
    {
      "cell_type": "markdown",
      "source": [
        "Looping for embeddings:\n",
        "\n",
        "\n",
        "* embedding1-label1: mental-bert\n",
        "* embedding2-label2: mental-roberta\n",
        "* embedding3-label3: bioclinical-bert\n",
        "\n"
      ],
      "metadata": {
        "id": "lDYSOvHvohBu"
      }
    },
    {
      "cell_type": "code",
      "source": [
        "embedding1 = []\n",
        "label1=[]\n",
        "embedding2 = []\n",
        "label2=[]\n",
        "embedding3 = []\n",
        "label3 = []"
      ],
      "metadata": {
        "id": "lGyWDD-xoS03"
      },
      "execution_count": null,
      "outputs": []
    },
    {
      "cell_type": "code",
      "source": [
        "counter = 0\n",
        "\n",
        "for i, j in zip(dev_data['text'], dev_data['label']):\n",
        "  if(counter%500==0):print(counter)\n",
        "  counter = counter+1\n",
        "  try:\n",
        "    input1 = tokenizer1(i, return_tensors=\"pt\", padding=True, truncation=True)\n",
        "    output1 = model1(**input1)\n",
        "\n",
        "    input2 = tokenizer2(i, return_tensors='pt', padding=True, truncation=True)\n",
        "    output2 = model2(**input2)\n",
        "\n",
        "    input3 = tokenizer3(i, return_tensors=\"pt\", padding=True, truncation=True)\n",
        "    output3 = model3(**input3)\n",
        "\n",
        "    embedding1.append(output1.last_hidden_state[0][0].detach().numpy())\n",
        "    embedding2.append(output2.last_hidden_state[0][0].detach().numpy())\n",
        "    embedding3.append(output3.last_hidden_state[0][0].detach().numpy())\n",
        "    label1.append(j)\n",
        "    label2.append(j)\n",
        "    label3.append(j)\n",
        "    # print(outputs.last_hidden_state.shape)\n",
        "  except:\n",
        "    continue"
      ],
      "metadata": {
        "id": "AdKyjzvQo_M_"
      },
      "execution_count": null,
      "outputs": []
    },
    {
      "cell_type": "code",
      "source": [
        "print(len(label1), len(label2), len(label3))"
      ],
      "metadata": {
        "id": "7DFNZGzQp-jL"
      },
      "execution_count": null,
      "outputs": []
    },
    {
      "cell_type": "code",
      "source": [
        "print(len(embedding1))"
      ],
      "metadata": {
        "id": "Ts680EXhqctW"
      },
      "execution_count": null,
      "outputs": []
    },
    {
      "cell_type": "code",
      "source": [
        "print(len(embedding1[0]))"
      ],
      "metadata": {
        "id": "iVqAkv_zBzZX"
      },
      "execution_count": null,
      "outputs": []
    },
    {
      "cell_type": "code",
      "source": [
        "np.save(open('dev-mental-bert-emb.npy','wb'),np.array(embedding1))\n",
        "np.save(open('dev-mental-roberta-emb.npy','wb'),np.array(embedding2))\n",
        "np.save(open('dev-clinical-bert-emb.npy','wb'),np.array(embedding3))"
      ],
      "metadata": {
        "id": "x7f1zzzKqgHR"
      },
      "execution_count": null,
      "outputs": []
    },
    {
      "cell_type": "code",
      "source": [
        "np.save(open('dev-mental-bert-label.npy','wb'),np.array(label1))\n",
        "np.save(open('dev-mental-roberta-label.npy','wb'),np.array(label2))\n",
        "np.save(open('dev-clinical-bert-label.npy','wb'),np.array(label3))"
      ],
      "metadata": {
        "id": "jX_FjmTZ1rfp"
      },
      "execution_count": null,
      "outputs": []
    },
    {
      "cell_type": "code",
      "source": [
        "print(label1)"
      ],
      "metadata": {
        "id": "y3PQq2vPB_py"
      },
      "execution_count": null,
      "outputs": []
    },
    {
      "cell_type": "code",
      "source": [
        "np.save(open('dev-stack-label.npy','wb'),np.array(label1))"
      ],
      "metadata": {
        "id": "MngyYH6mEwxA"
      },
      "execution_count": null,
      "outputs": []
    },
    {
      "cell_type": "code",
      "source": [
        "# stacking the embeddings\n",
        "stack = [sum(x)/ 3 for x in zip(embedding1, embedding2, embedding3)]"
      ],
      "metadata": {
        "id": "fYxJyR_ADrA9"
      },
      "execution_count": null,
      "outputs": []
    },
    {
      "cell_type": "code",
      "source": [
        "print(type(stack))\n",
        "print(len(stack))"
      ],
      "metadata": {
        "id": "Nnx0Zr6SD1I8"
      },
      "execution_count": null,
      "outputs": []
    },
    {
      "cell_type": "code",
      "source": [
        "np.save(open('dev-stack-emb.npy','wb'),np.array(stack))"
      ],
      "metadata": {
        "id": "QvcuZaY3D9_z"
      },
      "execution_count": null,
      "outputs": []
    },
    {
      "cell_type": "markdown",
      "source": [
        "### Checking occurences"
      ],
      "metadata": {
        "id": "bZd9JAY5HVwD"
      }
    },
    {
      "cell_type": "code",
      "source": [
        "print(Counter(label1).keys()) # unique elements\n",
        "print(Counter(label1).values()) # counts the elements' frequency"
      ],
      "metadata": {
        "id": "-NUr9X_yFfuv"
      },
      "execution_count": null,
      "outputs": []
    },
    {
      "cell_type": "markdown",
      "source": [
        "### Some data modifications"
      ],
      "metadata": {
        "id": "fu905xCXwqZG"
      }
    },
    {
      "cell_type": "code",
      "source": [
        "# train_emb = np.load(path+'emb/train/train-stack-emb.npy')\n",
        "# train_label = np.load(path+'emb/train/train-clinical-bert-label.npy')"
      ],
      "metadata": {
        "id": "rhJoU7BNntKo"
      },
      "execution_count": null,
      "outputs": []
    },
    {
      "cell_type": "code",
      "source": [
        "# dev_emb = np.load(path+'emb/dev/dev-stack-emb.npy')\n",
        "# dev_label = np.load(path+'emb/dev/dev-stack-label.npy')"
      ],
      "metadata": {
        "id": "jzeIGNmYpClJ"
      },
      "execution_count": null,
      "outputs": []
    },
    {
      "cell_type": "code",
      "source": [
        "# np.unique(train_label)"
      ],
      "metadata": {
        "id": "yi-0zf2EqILx"
      },
      "execution_count": null,
      "outputs": []
    },
    {
      "cell_type": "code",
      "source": [
        "# type(train_label)"
      ],
      "metadata": {
        "id": "LV0yUqE5ubyw"
      },
      "execution_count": null,
      "outputs": []
    },
    {
      "cell_type": "code",
      "source": [
        "# train_label = np.load(path+'emb/train/train-mental-roberta-label.npy')"
      ],
      "metadata": {
        "id": "XJKzaLg_vXLw"
      },
      "execution_count": null,
      "outputs": []
    },
    {
      "cell_type": "code",
      "source": [
        "'''\n",
        "def convert_labels(arr):\n",
        "    for i in range(len(arr)):\n",
        "        if arr[i]=='moderate':\n",
        "            arr[i]=0\n",
        "        elif arr[i]=='not depression':\n",
        "            arr[i]=1\n",
        "        elif arr[i]=='severe':\n",
        "            arr[i]=2\n",
        "\n",
        "convert_labels(train_label)\n",
        "'''\n"
      ],
      "metadata": {
        "id": "qdm8TkU5qSTF"
      },
      "execution_count": null,
      "outputs": []
    },
    {
      "cell_type": "code",
      "source": [
        "# np.unique(train_label)"
      ],
      "metadata": {
        "id": "-P08qQGaqw9k"
      },
      "execution_count": null,
      "outputs": []
    },
    {
      "cell_type": "code",
      "source": [
        "# train_label = train_label.astype(np.int64)"
      ],
      "metadata": {
        "id": "xJ1r29lkrjk-"
      },
      "execution_count": null,
      "outputs": []
    },
    {
      "cell_type": "code",
      "source": [
        "# np.unique(train_label)"
      ],
      "metadata": {
        "id": "E-OZraqer0GE"
      },
      "execution_count": null,
      "outputs": []
    },
    {
      "cell_type": "code",
      "source": [
        "# np.save('train-mental-roberta-label.npy', np.array(train_label))"
      ],
      "metadata": {
        "id": "XtnYfzmLuthk"
      },
      "execution_count": null,
      "outputs": []
    },
    {
      "cell_type": "code",
      "source": [
        "# np.unique(dev_label)"
      ],
      "metadata": {
        "id": "LmxxPtzZqNXw"
      },
      "execution_count": null,
      "outputs": []
    },
    {
      "cell_type": "markdown",
      "source": [
        "# SVM"
      ],
      "metadata": {
        "id": "sxbMCGZ4nrU1"
      }
    },
    {
      "cell_type": "markdown",
      "source": [
        "### For stacked embeddings"
      ],
      "metadata": {
        "id": "jkWJJgQwx3rc"
      }
    },
    {
      "cell_type": "code",
      "source": [
        "train_emb = np.load(path+'emb/train/train-stack-emb.npy')\n",
        "train_label = np.load(path+'emb/train/train-stack-label.npy')"
      ],
      "metadata": {
        "id": "RnaVIqXpw_uz"
      },
      "execution_count": null,
      "outputs": []
    },
    {
      "cell_type": "code",
      "source": [
        "dev_emb = np.load(path+'emb/dev/dev-stack-emb.npy')\n",
        "dev_label = np.load(path+'emb/dev/dev-stack-label.npy')"
      ],
      "metadata": {
        "id": "LGWStEMUw_u0"
      },
      "execution_count": null,
      "outputs": []
    },
    {
      "cell_type": "code",
      "source": [
        "svm_classifier = OneVsRestClassifier(SVC())\n",
        "svm_classifier.fit(train_emb, train_label)"
      ],
      "metadata": {
        "id": "k4FM8GQEHa8c"
      },
      "execution_count": null,
      "outputs": []
    },
    {
      "cell_type": "code",
      "source": [
        "pred = svm_classifier.predict(dev_emb)"
      ],
      "metadata": {
        "id": "_clsRMO5sAt4"
      },
      "execution_count": null,
      "outputs": []
    },
    {
      "cell_type": "code",
      "source": [
        "print(\"Accuracy for stacked embeddings (without balancing)\")\n",
        "# Model Accuracy: how often is the classifier correct?\n",
        "print(\"Accuracy:\", metrics.accuracy_score(pred, dev_label))\n",
        "print(classification_report(pred, dev_label))"
      ],
      "metadata": {
        "id": "C9NpeGAOsNMa"
      },
      "execution_count": null,
      "outputs": []
    },
    {
      "cell_type": "markdown",
      "source": [
        "# Balancing using SMOTE"
      ],
      "metadata": {
        "id": "P4uCEUxwyOZ2"
      }
    },
    {
      "cell_type": "code",
      "source": [
        "from imblearn.over_sampling import SMOTE\n",
        "smt = SMOTE()"
      ],
      "metadata": {
        "id": "uEsm07sLJpyf"
      },
      "execution_count": null,
      "outputs": []
    },
    {
      "cell_type": "code",
      "source": [
        "train_emb_smt, train_label_smt = smt.fit_resample(train_emb, train_label)"
      ],
      "metadata": {
        "id": "RscobA9wz7iD"
      },
      "execution_count": null,
      "outputs": []
    },
    {
      "cell_type": "code",
      "source": [
        "print('Before:', Counter(train_label))\n",
        "print('After:', Counter(train_label_smt))"
      ],
      "metadata": {
        "id": "NSiXleeo0Orj"
      },
      "execution_count": null,
      "outputs": []
    },
    {
      "cell_type": "code",
      "source": [
        "svm_classifier.fit(train_emb_smt, train_label_smt)"
      ],
      "metadata": {
        "id": "8QgOe2my0ZM0"
      },
      "execution_count": null,
      "outputs": []
    },
    {
      "cell_type": "code",
      "source": [
        "pred_bal = svm_classifier.predict(dev_emb)"
      ],
      "metadata": {
        "id": "Ru8jedzN0sJ6"
      },
      "execution_count": null,
      "outputs": []
    },
    {
      "cell_type": "code",
      "source": [
        "print(\"Accuracy for stacked embeddings (after balancing)\")\n",
        "# Model Accuracy: how often is the classifier correct?\n",
        "print(\"Accuracy:\", metrics.accuracy_score(pred_bal, dev_label))\n",
        "print(classification_report(pred_bal, dev_label))"
      ],
      "metadata": {
        "id": "blnMtiwx0uPZ"
      },
      "execution_count": null,
      "outputs": []
    },
    {
      "cell_type": "markdown",
      "source": [
        "### For mental-bert embeddings"
      ],
      "metadata": {
        "id": "MJltInC4ztub"
      }
    },
    {
      "cell_type": "code",
      "source": [
        "train_emb1 = np.load(path+'emb/train/train-mental-bert-emb.npy')\n",
        "train_label1 = np.load(path+'emb/train/train-mental-bert-label.npy')"
      ],
      "metadata": {
        "id": "KWBi10o6z2Qz"
      },
      "execution_count": null,
      "outputs": []
    },
    {
      "cell_type": "code",
      "source": [
        "dev_emb1 = np.load(path+'emb/dev/dev-mental-bert-emb.npy')\n",
        "dev_label1 = np.load(path+'emb/dev/dev-mental-bert-label.npy')"
      ],
      "metadata": {
        "id": "NUWlMLNKz2Q0"
      },
      "execution_count": null,
      "outputs": []
    },
    {
      "cell_type": "code",
      "source": [
        "svm_classifier1 = OneVsRestClassifier(SVC())\n",
        "svm_classifier1.fit(train_emb1, train_label1)"
      ],
      "metadata": {
        "id": "G2ZLbphkz2Q1"
      },
      "execution_count": null,
      "outputs": []
    },
    {
      "cell_type": "code",
      "source": [
        "pred1 = svm_classifier1.predict(dev_emb1)"
      ],
      "metadata": {
        "id": "tkPwqcdRz2Q2"
      },
      "execution_count": null,
      "outputs": []
    },
    {
      "cell_type": "code",
      "source": [
        "print(\"Accuracy for mental-bert embeddings (without balancing)\")\n",
        "# Model Accuracy: how often is the classifier correct?\n",
        "print(\"Accuracy:\", metrics.accuracy_score(pred1, dev_label1))\n",
        "print(classification_report(pred1, dev_label1))"
      ],
      "metadata": {
        "id": "urRvqK6zz2Q2"
      },
      "execution_count": null,
      "outputs": []
    },
    {
      "cell_type": "code",
      "source": [
        "train_emb_smt1, train_label_smt1 = smt.fit_resample(train_emb1, train_label1)"
      ],
      "metadata": {
        "id": "K0aZKvzmz2Q3"
      },
      "execution_count": null,
      "outputs": []
    },
    {
      "cell_type": "code",
      "source": [
        "svm_classifier.fit(train_emb_smt1, train_label_smt1)"
      ],
      "metadata": {
        "id": "AUTCX1Ib0uku"
      },
      "execution_count": null,
      "outputs": []
    },
    {
      "cell_type": "code",
      "source": [
        "pred_bal1 = svm_classifier.predict(dev_emb1)"
      ],
      "metadata": {
        "id": "fZMX1ivz0ukv"
      },
      "execution_count": null,
      "outputs": []
    },
    {
      "cell_type": "code",
      "source": [
        "print(\"Accuracy for stacked embeddings (after balancing)\")\n",
        "# Model Accuracy: how often is the classifier correct?\n",
        "print(\"Accuracy:\", metrics.accuracy_score(pred_bal1, dev_label1))\n",
        "print(classification_report(pred_bal1, dev_label1))"
      ],
      "metadata": {
        "id": "MzAhegoT0ukw"
      },
      "execution_count": null,
      "outputs": []
    },
    {
      "cell_type": "code",
      "source": [],
      "metadata": {
        "id": "l_nvM_JX05V9"
      },
      "execution_count": null,
      "outputs": []
    }
  ]
}