{
  "cells": [
    {
      "cell_type": "code",
      "execution_count": null,
      "metadata": {
        "id": "r31S1Du7dPYb"
      },
      "outputs": [],
      "source": [
        "from google.colab import drive\n",
        "drive.mount('/content/drive')"
      ]
    },
    {
      "cell_type": "code",
      "execution_count": null,
      "metadata": {
        "id": "-qKdfgcQuXRd"
      },
      "outputs": [],
      "source": [
        "import pandas as pd\n",
        "import numpy as np\n",
        "import re\n",
        "from collections import Counter"
      ]
    },
    {
      "cell_type": "code",
      "execution_count": null,
      "metadata": {
        "id": "0T0gwrmE0KKO"
      },
      "outputs": [],
      "source": [
        "import tensorflow as tf"
      ]
    },
    {
      "cell_type": "code",
      "execution_count": null,
      "metadata": {
        "id": "dl5Lyf3LiChZ"
      },
      "outputs": [],
      "source": [
        "from tensorflow.keras.layers import Embedding\n",
        "from tensorflow.keras.layers import LSTM\n",
        "from tensorflow.keras.layers import Dense\n",
        "from tensorflow.keras.layers import Bidirectional\n",
        "from tensorflow.keras.models import Sequential\n",
        "from tensorflow.keras.layers import Dropout, SpatialDropout1D"
      ]
    },
    {
      "cell_type": "code",
      "execution_count": null,
      "metadata": {
        "id": "TwrdD4t9bGtx"
      },
      "outputs": [],
      "source": [
        "from sklearn.model_selection import train_test_split\n",
        "from sklearn.metrics import classification_report, multilabel_confusion_matrix\n",
        "from sklearn.model_selection import cross_val_score\n",
        "from sklearn import metrics\n",
        "from keras.utils.np_utils import to_categorical"
      ]
    },
    {
      "cell_type": "code",
      "execution_count": null,
      "metadata": {
        "id": "KOQVM2R1jIpA"
      },
      "outputs": [],
      "source": [
        "voc_size=50000"
      ]
    },
    {
      "cell_type": "code",
      "execution_count": null,
      "metadata": {
        "id": "TMI-hLNDkgF1"
      },
      "outputs": [],
      "source": [
        "path = \"/content/drive/MyDrive/dep-nlp/\""
      ]
    },
    {
      "cell_type": "code",
      "execution_count": null,
      "metadata": {
        "id": "YXKosdqcusC5"
      },
      "outputs": [],
      "source": [
        "train_emb = np.load(path+'emb/train/train-stack-emb.npy')\n",
        "train_label = np.load(path+'emb/train/train-stack-label.npy')"
      ]
    },
    {
      "cell_type": "code",
      "execution_count": null,
      "metadata": {
        "id": "Lx3KcG1qu5YE"
      },
      "outputs": [],
      "source": [
        "dev_emb = np.load(path+'emb/dev/dev-stack-emb.npy')\n",
        "dev_label = np.load(path+'emb/dev/dev-stack-label.npy')"
      ]
    },
    {
      "cell_type": "code",
      "execution_count": null,
      "metadata": {
        "id": "5UNaskeRyQoD"
      },
      "outputs": [],
      "source": [
        "len(train_emb)"
      ]
    },
    {
      "cell_type": "code",
      "execution_count": null,
      "metadata": {
        "id": "j82PpOG75zJv"
      },
      "outputs": [],
      "source": [
        "train_emb.shape"
      ]
    },
    {
      "cell_type": "code",
      "execution_count": null,
      "metadata": {
        "id": "Izutv2L8yTc_"
      },
      "outputs": [],
      "source": [
        "len(dev_emb)"
      ]
    },
    {
      "cell_type": "code",
      "execution_count": null,
      "metadata": {
        "id": "F_kM_2i8eFvQ"
      },
      "outputs": [],
      "source": [
        "train_label = to_categorical(train_label, 3)\n",
        "dev_label = to_categorical(dev_label, 3)"
      ]
    },
    {
      "cell_type": "code",
      "execution_count": null,
      "metadata": {
        "id": "1J__pSjOj4n1"
      },
      "outputs": [],
      "source": [
        "# unique, counts = np.unique(data, return_counts=True)\n",
        "# result = np.column_stack((unique, counts)) \n",
        "# print (result.shape)"
      ]
    },
    {
      "cell_type": "markdown",
      "metadata": {
        "id": "1ST9_D0-5sqR"
      },
      "source": [
        "# Test 1 - basic BiLSTM"
      ]
    },
    {
      "cell_type": "markdown",
      "metadata": {
        "id": "0sVc1qOO7AFv"
      },
      "source": [
        "### part 1"
      ]
    },
    {
      "cell_type": "code",
      "execution_count": null,
      "metadata": {
        "id": "yITeU1J6jM-Y"
      },
      "outputs": [],
      "source": [
        "embedding_vector_features= 768\n",
        "model=Sequential()\n",
        "\n",
        "model.add(Bidirectional(LSTM(768)))\n",
        "# model.add(Dense(1,activation='softmax'))\n",
        "model.add(Dense(3, activation='softmax'))\n",
        "model.compile(loss='binary_crossentropy',optimizer='adam',metrics=['accuracy'])\n",
        "model.build((None, 1, 768)) #change the value according to embeddings shape\n",
        "print(model.summary())\n"
      ]
    },
    {
      "cell_type": "code",
      "execution_count": null,
      "metadata": {
        "id": "EBYpGhGgnT9H"
      },
      "outputs": [],
      "source": [
        "# print(Counter(train_label))\n",
        "# print(Counter(dev_label))"
      ]
    },
    {
      "cell_type": "code",
      "execution_count": null,
      "metadata": {
        "id": "wK1em15EofrO"
      },
      "outputs": [],
      "source": [
        "print(dev_label)"
      ]
    },
    {
      "cell_type": "code",
      "execution_count": null,
      "metadata": {
        "id": "K3S_uq2hpMaM"
      },
      "outputs": [],
      "source": [
        "print(np.array(train_emb).shape)"
      ]
    },
    {
      "cell_type": "markdown",
      "metadata": {
        "id": "5N_oQVzv7PoQ"
      },
      "source": [
        "### balance the data"
      ]
    },
    {
      "cell_type": "code",
      "execution_count": null,
      "metadata": {
        "id": "-P5Y7f927ZBM"
      },
      "outputs": [],
      "source": [
        "from imblearn.over_sampling import SMOTE\n",
        "smt = SMOTE()"
      ]
    },
    {
      "cell_type": "code",
      "execution_count": null,
      "metadata": {
        "id": "dmYMLJbx7ZBN"
      },
      "outputs": [],
      "source": [
        "train_emb1, train_label1 = smt.fit_resample(train_emb, train_label)"
      ]
    },
    {
      "cell_type": "code",
      "execution_count": null,
      "metadata": {
        "id": "sjCZQlUw7ZBN"
      },
      "outputs": [],
      "source": [
        "# print('Before:', Counter(train_label))\n",
        "# print('After:', Counter(train_label))"
      ]
    },
    {
      "cell_type": "code",
      "execution_count": null,
      "metadata": {
        "id": "AsDqeIZweR31"
      },
      "outputs": [],
      "source": [
        "train_label.shape"
      ]
    },
    {
      "cell_type": "code",
      "execution_count": null,
      "metadata": {
        "id": "qHxavtXEmBN3"
      },
      "outputs": [],
      "source": [
        "X_train = train_emb1.reshape([-1,1,768]) # change value according to shape\n",
        "X_test = dev_emb.reshape([-1,1,768])"
      ]
    },
    {
      "cell_type": "code",
      "execution_count": null,
      "metadata": {
        "id": "qLln-yjFnwz3"
      },
      "outputs": [],
      "source": [
        "model.fit(np.array(X_train),np.array(train_label1),validation_data=(np.array(X_test),np.array(dev_label)),epochs=30,batch_size=64)\n"
      ]
    },
    {
      "cell_type": "code",
      "execution_count": null,
      "metadata": {
        "id": "KElZQEIbrad5"
      },
      "outputs": [],
      "source": [
        "pred = model.predict(X_test)\n",
        "print(pred)"
      ]
    },
    {
      "cell_type": "code",
      "execution_count": null,
      "metadata": {
        "id": "G2iSxz8sr1Uv"
      },
      "outputs": [],
      "source": [
        "from sklearn.metrics import confusion_matrix\n",
        "# confusion_matrix(y_test,y_pred)\n",
        "a=0\n",
        "y_final=[];\n",
        "for i in y_pred:\n",
        "  if(i>=0.5):y_final.append(1)\n",
        "  else:y_final.append(0)\n",
        "confusion_matrix(y_test,y_final)"
      ]
    },
    {
      "cell_type": "code",
      "execution_count": null,
      "metadata": {
        "id": "eHgColuHmo4C"
      },
      "outputs": [],
      "source": [
        "from sklearn.metrics import accuracy_score\n",
        "# print(y_final)\n",
        "accuracy_score(y_final, y_test)"
      ]
    },
    {
      "cell_type": "code",
      "execution_count": null,
      "metadata": {
        "id": "ZF5Hx3uyoES5"
      },
      "outputs": [],
      "source": []
    },
    {
      "cell_type": "markdown",
      "metadata": {
        "id": "2B372XnlzmCL"
      },
      "source": [
        "### part 2"
      ]
    },
    {
      "cell_type": "code",
      "execution_count": null,
      "metadata": {
        "id": "wXRR0awIzlVp"
      },
      "outputs": [],
      "source": [
        "model = Sequential()\n",
        "model.add(Bidirectional(LSTM(768)))\n",
        "model.add(Dropout(0.3))\n",
        "model.add(Bidirectional(LSTM(20), ))\n",
        "model.add(Dropout(0.2))\n",
        "model.add(Dense(20))\n",
        "model.add(Dropout(0.4))\n",
        "model.add(Dense(3, activation='softmax'))"
      ]
    },
    {
      "cell_type": "code",
      "execution_count": null,
      "metadata": {
        "id": "dMD1pm8t0GUF"
      },
      "outputs": [],
      "source": [
        "opt = tf.keras.optimizers.Adam(lr=0.001, decay=1e-6)\n",
        "model.compile(\n",
        "    loss='sparse_categorical_crossentropy',\n",
        "    optimizer=opt,\n",
        "    metrics=['accuracy'],\n",
        ")"
      ]
    },
    {
      "cell_type": "code",
      "execution_count": null,
      "metadata": {
        "id": "D5Nqah4l0GwD"
      },
      "outputs": [],
      "source": [
        "model.fit(np.array(X_train),np.array(train_label1),validation_data=(np.array(X_test),np.array(dev_label)),epochs=30,batch_size=64)\n"
      ]
    },
    {
      "cell_type": "markdown",
      "metadata": {
        "id": "e7wVBppN8q_l"
      },
      "source": [
        "### one-hot encoding for labels"
      ]
    },
    {
      "cell_type": "code",
      "execution_count": null,
      "metadata": {
        "id": "kq2v6NYZ8qxR"
      },
      "outputs": [],
      "source": [
        "y = [0 for x in range(len(train_label))]\n",
        "\n",
        "for i in range(len(train_label)):\n",
        "  if(train_label[i]==0):\n",
        "    train_label[i]=0\n",
        "    y[i]=0\n",
        "  if(train_label[i]==1):\n",
        "    train_label[i]=1\n",
        "    y[i]=1\n",
        "  if(train_label[i]==2):\n",
        "    train_label[i]=2\n",
        "    y[i]=2"
      ]
    },
    {
      "cell_type": "code",
      "execution_count": null,
      "metadata": {
        "id": "uDRi-r4b9uyK"
      },
      "outputs": [],
      "source": [
        "y_train = tf.keras.utils.to_categorical(\n",
        "    y, num_classes=None, dtype='float32'\n",
        ")"
      ]
    },
    {
      "cell_type": "code",
      "execution_count": null,
      "metadata": {
        "id": "S_LbAFOx9w1s"
      },
      "outputs": [],
      "source": [
        "# print(train_emb, y)"
      ]
    },
    {
      "cell_type": "code",
      "execution_count": null,
      "metadata": {
        "id": "ObT-w7VE-EWi"
      },
      "outputs": [],
      "source": [
        "z = [0 for x in range(len(dev_label))]\n",
        "\n",
        "for i in range(len(dev_label)):\n",
        "  if(dev_label[i]==0):\n",
        "    dev_label[i]=0\n",
        "    z[i]=0\n",
        "  if(dev_label[i]==1):\n",
        "    dev_label[i]=1\n",
        "    z[i]=1\n",
        "  if(dev_label[i]==2):\n",
        "    dev_label[i]=2\n",
        "    z[i]=2\n",
        "\n",
        "y_dev = tf.keras.utils.to_categorical(\n",
        "    z, num_classes=None, dtype='float32'\n",
        ")"
      ]
    },
    {
      "cell_type": "code",
      "execution_count": null,
      "metadata": {
        "id": "TcefBGYE-PM7"
      },
      "outputs": [],
      "source": [
        "#print(y_dev)"
      ]
    },
    {
      "cell_type": "markdown",
      "metadata": {
        "id": "sOlzTYlmVS83"
      },
      "source": [
        "# Test 2"
      ]
    },
    {
      "cell_type": "code",
      "execution_count": null,
      "metadata": {
        "id": "0rmvzFTfVVIF"
      },
      "outputs": [],
      "source": [
        "X_train = train_emb.reshape(-1, 768, 1) # change value according to shape\n",
        "X_test = dev_emb.reshape(-1, 768, 1)"
      ]
    },
    {
      "cell_type": "code",
      "execution_count": null,
      "metadata": {
        "id": "g6k7wHT70P5M"
      },
      "outputs": [],
      "source": [
        "model1 = Sequential()\n",
        "model1.add(Bidirectional(LSTM(200, input_shape=(8107,768), return_sequences=True)))\n",
        "model1.add(Dropout(0.3))\n",
        "model1.add(Bidirectional(LSTM(20)))\n",
        "model1.add(Dropout(0.2))\n",
        "model1.add(Dense(20, activation='relu'))\n",
        "model1.add(Dropout(0.4))\n",
        "model1.add(Dense(3, activation='softmax'))\n",
        "\n",
        "model1.compile(loss='categorical_crossentropy', optimizer='adam', metrics=['accuracy'])\n"
      ]
    },
    {
      "cell_type": "code",
      "execution_count": null,
      "metadata": {
        "id": "vZmdOCo91MrS"
      },
      "outputs": [],
      "source": [
        "model1.fit(np.array(X_train),np.array(train_label),validation_data=(np.array(X_test),np.array(dev_label)), epochs=50, batch_size=100)\n"
      ]
    },
    {
      "cell_type": "markdown",
      "metadata": {
        "id": "wvXr098CXZl4"
      },
      "source": [
        "# Test 3 - XGBoost"
      ]
    },
    {
      "cell_type": "code",
      "execution_count": null,
      "metadata": {
        "id": "T-e6nRZCYUFm"
      },
      "outputs": [],
      "source": [
        "import xgboost as xgb\n",
        "import matplotlib.pyplot as plt"
      ]
    },
    {
      "cell_type": "code",
      "execution_count": null,
      "metadata": {
        "id": "o6lBQC3FZ2P2"
      },
      "outputs": [],
      "source": [
        "from xgboost.sklearn import XGBClassifier\n",
        "#initial model\n",
        "xgb1 = XGBClassifier(learning_rate=0.1,\n",
        "                    n_estimators=1000,\n",
        "                    max_depth=5,\n",
        "                    min_child_weight=1,\n",
        "                    gamma=0,\n",
        "                    subsample=0.8,\n",
        "                    colsample_bytree=0.8,\n",
        "                    objective='multi:softmax',\n",
        "                    nthread=4,\n",
        "                    num_class=9,\n",
        "                    seed=27)"
      ]
    },
    {
      "cell_type": "code",
      "execution_count": null,
      "metadata": {
        "id": "fPwykrIsZ9lb"
      },
      "outputs": [],
      "source": [
        "xgb1.fit(train_emb, train_label)"
      ]
    },
    {
      "cell_type": "code",
      "execution_count": null,
      "metadata": {
        "id": "ggxs3pcJa2fd"
      },
      "outputs": [],
      "source": [
        "pred = xgb1.predict(dev_emb) "
      ]
    },
    {
      "cell_type": "code",
      "execution_count": null,
      "metadata": {
        "id": "5cJEoH65a9fl"
      },
      "outputs": [],
      "source": [
        "print(\"Accuracy for stacked embeddings (without balancing)\")\n",
        "# Model Accuracy: how often is the classifier correct?\n",
        "print(\"Accuracy:\", metrics.accuracy_score(pred, dev_label))\n",
        "print(classification_report(pred, dev_label))"
      ]
    },
    {
      "cell_type": "code",
      "execution_count": null,
      "metadata": {
        "id": "5DNQSe8zdzde"
      },
      "outputs": [],
      "source": [
        "from imblearn.over_sampling import SMOTE\n",
        "smt = SMOTE()"
      ]
    },
    {
      "cell_type": "code",
      "execution_count": null,
      "metadata": {
        "id": "U7RU8Oyqd9Tj"
      },
      "outputs": [],
      "source": [
        "train_emb_smt, train_label_smt = smt.fit_resample(train_emb, train_label)"
      ]
    },
    {
      "cell_type": "code",
      "execution_count": null,
      "metadata": {
        "id": "gQksldKTd-PM"
      },
      "outputs": [],
      "source": [
        "print('Before:', Counter(train_label))\n",
        "print('After:', Counter(train_label_smt))"
      ]
    },
    {
      "cell_type": "code",
      "execution_count": null,
      "metadata": {
        "id": "4UMPoTcSd_Sa"
      },
      "outputs": [],
      "source": [
        "xgb1.fit(train_emb_smt, train_label_smt)"
      ]
    },
    {
      "cell_type": "code",
      "execution_count": null,
      "metadata": {
        "id": "qaLt_EbYeBiT"
      },
      "outputs": [],
      "source": [
        "pred_bal = xgb1.predict(dev_emb)"
      ]
    },
    {
      "cell_type": "code",
      "execution_count": null,
      "metadata": {
        "id": "hgp0As3VeDfK"
      },
      "outputs": [],
      "source": [
        "print(\"Accuracy for stacked embeddings (after balancing)\")\n",
        "# Model Accuracy: how often is the classifier correct?\n",
        "print(\"Accuracy:\", metrics.accuracy_score(pred_bal, dev_label))\n",
        "print(classification_report(pred_bal, dev_label))"
      ]
    },
    {
      "cell_type": "code",
      "execution_count": null,
      "metadata": {
        "id": "vRHhbaL6lSwi"
      },
      "outputs": [],
      "source": []
    },
    {
      "cell_type": "markdown",
      "metadata": {
        "id": "ZnqYenOzo6Gp"
      },
      "source": [
        "# Random Forest Classifier"
      ]
    },
    {
      "cell_type": "code",
      "execution_count": null,
      "metadata": {
        "id": "zzZpesjYwJco"
      },
      "outputs": [],
      "source": [
        "import numpy as np\n",
        "import pandas as pd\n",
        "from sklearn.model_selection import train_test_split\n",
        "from sklearn.preprocessing import StandardScaler\n",
        "from sklearn.ensemble import RandomForestClassifier\n",
        "from sklearn.metrics import confusion_matrix"
      ]
    },
    {
      "cell_type": "code",
      "execution_count": null,
      "metadata": {
        "id": "aws89LQYplaw"
      },
      "outputs": [],
      "source": [
        "path = \"/content/gdrive/MyDrive/dep-nlp/\""
      ]
    },
    {
      "cell_type": "code",
      "execution_count": null,
      "metadata": {
        "id": "kWzyWoBmpMsK"
      },
      "outputs": [],
      "source": [
        "train = np.load(path+\"emb/train/train-stack-emb.npy\")\n",
        "dev = np.load(path+\"emb/dev/dev-stack-emb.npy\")"
      ]
    },
    {
      "cell_type": "code",
      "execution_count": null,
      "metadata": {
        "id": "X72WzQpgp_NF"
      },
      "outputs": [],
      "source": [
        "train_label = np.load(path+\"emb/train/train-stack-label.npy\")\n",
        "dev_label = np.load(path+\"emb/dev/dev-stack-label.npy\")"
      ]
    },
    {
      "cell_type": "code",
      "execution_count": null,
      "metadata": {
        "id": "qb7qreSnqIFV"
      },
      "outputs": [],
      "source": [
        "classifier = RandomForestClassifier(n_estimators = 10, criterion = 'entropy', random_state = 42)\n",
        "classifier.fit(train, train_label)"
      ]
    },
    {
      "cell_type": "code",
      "execution_count": null,
      "metadata": {
        "id": "TavU9Eq4qT5n"
      },
      "outputs": [],
      "source": [
        "pred = classifier.predict(dev)"
      ]
    },
    {
      "cell_type": "code",
      "execution_count": null,
      "metadata": {
        "id": "tGeTf2oPq3Nh"
      },
      "outputs": [],
      "source": [
        "from sklearn import metrics\n",
        "from sklearn.metrics import classification_report, multilabel_confusion_matrix\n",
        "\n",
        "print(\"Accuracy for stacked embeddings (without balancing)\")\n",
        "# Model Accuracy: how often is the classifier correct?\n",
        "print(\"Accuracy:\", metrics.accuracy_score(pred, dev_label))\n",
        "print(classification_report(pred, dev_label))"
      ]
    },
    {
      "cell_type": "code",
      "execution_count": null,
      "metadata": {
        "id": "uEsm07sLJpyf"
      },
      "outputs": [],
      "source": [
        "from imblearn.over_sampling import SMOTE\n",
        "smt = SMOTE()"
      ]
    },
    {
      "cell_type": "code",
      "execution_count": null,
      "metadata": {
        "id": "RscobA9wz7iD"
      },
      "outputs": [],
      "source": [
        "train_emb_smt, train_label_smt = smt.fit_resample(train, train_label)"
      ]
    },
    {
      "cell_type": "code",
      "execution_count": null,
      "metadata": {
        "id": "NSiXleeo0Orj"
      },
      "outputs": [],
      "source": [
        "from collections import Counter\n",
        "print('Before:', Counter(train_label))\n",
        "print('After:', Counter(train_label_smt))"
      ]
    },
    {
      "cell_type": "code",
      "execution_count": null,
      "metadata": {
        "id": "HkcrT-WFslJF"
      },
      "outputs": [],
      "source": [
        "classifier1 = RandomForestClassifier(n_estimators = 10, criterion = 'entropy', random_state = 42)\n",
        "classifier1.fit(train_emb_smt, train_label_smt)"
      ]
    },
    {
      "cell_type": "code",
      "execution_count": null,
      "metadata": {
        "id": "l_MCi-z4s7Uj"
      },
      "outputs": [],
      "source": [
        "pred_bal = classifier1.predict(dev)"
      ]
    },
    {
      "cell_type": "code",
      "execution_count": null,
      "metadata": {
        "id": "5AWH5LoPs3Kl"
      },
      "outputs": [],
      "source": [
        "print(\"Accuracy for stacked embeddings (after balancing)\")\n",
        "# Model Accuracy: how often is the classifier correct?\n",
        "print(\"Accuracy:\", metrics.accuracy_score(pred_bal, dev_label))\n",
        "print(classification_report(pred_bal, dev_label))"
      ]
    },
    {
      "cell_type": "code",
      "execution_count": null,
      "metadata": {
        "id": "4Y25ihwMeFS_"
      },
      "outputs": [],
      "source": []
    },
    {
      "cell_type": "markdown",
      "metadata": {
        "id": "is37ycV9jRQ9"
      },
      "source": [
        "# Test 5- LSTM"
      ]
    },
    {
      "cell_type": "code",
      "execution_count": null,
      "metadata": {
        "id": "NGTnEQXCjZY3"
      },
      "outputs": [],
      "source": [
        "path = \"/content/drive/MyDrive/dep-nlp/\""
      ]
    },
    {
      "cell_type": "code",
      "execution_count": null,
      "metadata": {
        "id": "RK0Sg0srjZY5"
      },
      "outputs": [],
      "source": [
        "train_emb = np.load(path+'emb/train/train-stack-emb.npy')\n",
        "train_label = np.load(path+'emb/train/train-stack-label.npy')"
      ]
    },
    {
      "cell_type": "code",
      "execution_count": null,
      "metadata": {
        "id": "iLIi8rxejZY6"
      },
      "outputs": [],
      "source": [
        "dev_emb = np.load(path+'emb/dev/dev-stack-emb.npy')\n",
        "dev_label = np.load(path+'emb/dev/dev-stack-label.npy')"
      ]
    },
    {
      "cell_type": "code",
      "execution_count": null,
      "metadata": {
        "id": "kvkAbmmjy_EU"
      },
      "outputs": [],
      "source": [
        "train_emb.shape"
      ]
    },
    {
      "cell_type": "code",
      "execution_count": null,
      "metadata": {
        "id": "b98KXVtNje7E"
      },
      "outputs": [],
      "source": [
        "dev_emb.shape"
      ]
    },
    {
      "cell_type": "code",
      "execution_count": null,
      "metadata": {
        "id": "VE6Pdj2_j5Q2"
      },
      "outputs": [],
      "source": [
        "from imblearn.over_sampling import SMOTE\n",
        "smt = SMOTE()"
      ]
    },
    {
      "cell_type": "code",
      "execution_count": null,
      "metadata": {
        "id": "CU1EpbFxj5Q4"
      },
      "outputs": [],
      "source": [
        "train_emb_smt, train_label_smt = smt.fit_resample(train_emb, train_label)"
      ]
    },
    {
      "cell_type": "code",
      "execution_count": null,
      "metadata": {
        "id": "OF-Nwvo1jhH9"
      },
      "outputs": [],
      "source": [
        "train_label_smt = to_categorical(train_label_smt, 3)\n",
        "dev_label = to_categorical(dev_label, 3)"
      ]
    },
    {
      "cell_type": "code",
      "execution_count": null,
      "metadata": {
        "id": "dWv2JKQfjusA"
      },
      "outputs": [],
      "source": [
        "train_emb_smt.shape"
      ]
    },
    {
      "cell_type": "code",
      "execution_count": null,
      "metadata": {
        "id": "SWjUuEODkG1-"
      },
      "outputs": [],
      "source": [
        "train_label_smt.shape"
      ]
    },
    {
      "cell_type": "code",
      "execution_count": null,
      "metadata": {
        "id": "D4xDMWopkKBO"
      },
      "outputs": [],
      "source": [
        "dev_label.shape"
      ]
    },
    {
      "cell_type": "code",
      "execution_count": null,
      "metadata": {
        "id": "LkuvF70KkSYm"
      },
      "outputs": [],
      "source": [
        "x_train = train_emb_smt.reshape(-1,768,1)\n",
        "y_train = train_label_smt"
      ]
    },
    {
      "cell_type": "code",
      "execution_count": null,
      "metadata": {
        "id": "oNyxMwjQkmbs"
      },
      "outputs": [],
      "source": [
        "x_train.shape"
      ]
    },
    {
      "cell_type": "code",
      "execution_count": null,
      "metadata": {
        "id": "BrMT6ffIlAkz"
      },
      "outputs": [],
      "source": [
        "x_val = dev_emb.reshape(-1,768,1)\n",
        "y_val = dev_label"
      ]
    },
    {
      "cell_type": "code",
      "execution_count": null,
      "metadata": {
        "id": "RBtx6dxNknaJ"
      },
      "outputs": [],
      "source": [
        "model = Sequential()\n",
        "model.add(Bidirectional(LSTM(100, input_shape=(16575, 768), return_sequences=True)))\n",
        "model.add(Dropout(0.3))\n",
        "model.add(Bidirectional(LSTM(20)))\n",
        "model.add(Dropout(0.2))\n",
        "model.add(Dense(20, activation='relu'))\n",
        "model.add(Dropout(0.4))\n",
        "model.add(Dense(3, activation='softmax'))\n",
        "model.compile(loss='categorical_crossentropy', optimizer='adam', metrics=['accuracy'])"
      ]
    },
    {
      "cell_type": "code",
      "execution_count": null,
      "metadata": {
        "id": "50C2yOdVkuwX"
      },
      "outputs": [],
      "source": [
        "history=model.fit(x_train, y_train, batch_size=100, epochs = 10, validation_data=(x_val, y_val))"
      ]
    },
    {
      "cell_type": "markdown",
      "source": [
        "# With embedding layer"
      ],
      "metadata": {
        "id": "pYMJxVnrVrgt"
      }
    },
    {
      "cell_type": "code",
      "execution_count": null,
      "metadata": {
        "id": "WJbrf7zHk12I"
      },
      "outputs": [],
      "source": [
        "model1 = Sequential()\n",
        "model1.add(Embedding(25000, 768, input_length=x_train.shape[1]))\n",
        "model1.add(SpatialDropout1D(0.7))\n",
        "model1.add(LSTM(64, dropout=0.7, recurrent_dropout=0.7))\n",
        "model1.add(Dense(3, activation='softmax'))\n",
        "model1.compile(optimizer='adam', loss='categorical_crossentropy', metrics=['acc'])"
      ]
    },
    {
      "cell_type": "code",
      "source": [
        "history = model1.fit(x_train, y_train, epochs=10, batch_size=100)\n"
      ],
      "metadata": {
        "id": "W8ndnnQAV5zh"
      },
      "execution_count": null,
      "outputs": []
    },
    {
      "cell_type": "markdown",
      "source": [
        "# XLnet"
      ],
      "metadata": {
        "id": "4snuPZvQqACF"
      }
    },
    {
      "cell_type": "code",
      "source": [
        "!pip install simpletransformers --quiet"
      ],
      "metadata": {
        "id": "W3RfgMh4q2ri"
      },
      "execution_count": null,
      "outputs": []
    },
    {
      "cell_type": "code",
      "source": [
        "from simpletransformers.classification import MultiLabelClassificationModel\n",
        "\n",
        "\n",
        "model = MultiLabelClassificationModel('xlnet', 'xlnet-base-cased', num_labels=3, args={'train_batch_size':2, 'gradient_accumulation_steps':16, 'learning_rate': 3e-5, 'num_train_epochs': 3, 'max_seq_length': 512})\n"
      ],
      "metadata": {
        "id": "AKfBio_kqy2t"
      },
      "execution_count": null,
      "outputs": []
    },
    {
      "cell_type": "code",
      "source": [
        "train = pd.read_csv(path+'data/train.csv')\n",
        "dev = pd.read_csv(path+'data/dev.csv')"
      ],
      "metadata": {
        "id": "D1zqLtEtC9ne"
      },
      "execution_count": null,
      "outputs": []
    },
    {
      "cell_type": "code",
      "source": [
        "train = train.drop('id', axis=1)\n",
        "dev = dev.drop('id', axis=1)"
      ],
      "metadata": {
        "id": "ftYz1E8hDtah"
      },
      "execution_count": null,
      "outputs": []
    },
    {
      "cell_type": "code",
      "source": [
        "frames = [train, dev]\n",
        "df = pd.concat(frames)"
      ],
      "metadata": {
        "id": "WLAaMqd0DuyU"
      },
      "execution_count": null,
      "outputs": []
    },
    {
      "cell_type": "code",
      "source": [
        "data = pd.get_dummies(df, columns = ['label'])"
      ],
      "metadata": {
        "id": "EcWFOxsdtCLS"
      },
      "execution_count": null,
      "outputs": []
    },
    {
      "cell_type": "code",
      "source": [
        "data.head()"
      ],
      "metadata": {
        "id": "AL9mA3yHtIeo"
      },
      "execution_count": null,
      "outputs": []
    },
    {
      "cell_type": "code",
      "source": [
        "possible_labels = df.label.unique()\n",
        "\n",
        "label_dict = {}\n",
        "for index, possible_label in enumerate(possible_labels):\n",
        "    label_dict[possible_label] = index\n",
        "print(label_dict)\n",
        "# df['label'] = df.label.replace(label_dict)\n",
        "#dev_clean['label'] = dev_clean.label.replace(label_dict)\n"
      ],
      "metadata": {
        "id": "ed6tgv1gsOx_"
      },
      "execution_count": null,
      "outputs": []
    },
    {
      "cell_type": "code",
      "source": [
        "train_df, eval_df = train_test_split(data, test_size=0.2)"
      ],
      "metadata": {
        "id": "2dTxhKCRsAUV"
      },
      "execution_count": null,
      "outputs": []
    },
    {
      "cell_type": "code",
      "source": [
        "train_df.head()"
      ],
      "metadata": {
        "id": "DVHcQIq3skGH"
      },
      "execution_count": null,
      "outputs": []
    },
    {
      "cell_type": "code",
      "source": [
        "model.train_model(train_df)"
      ],
      "metadata": {
        "id": "gCuzCDQWrCfo"
      },
      "execution_count": null,
      "outputs": []
    },
    {
      "cell_type": "code",
      "source": [
        "result, model_outputs, wrong_predictions = model.eval_model(eval_df)"
      ],
      "metadata": {
        "id": "UsXgYj_HsGse"
      },
      "execution_count": null,
      "outputs": []
    }
  ],
  "metadata": {
    "accelerator": "GPU",
    "colab": {
      "provenance": []
    },
    "gpuClass": "standard",
    "kernelspec": {
      "display_name": "Python 3",
      "name": "python3"
    },
    "language_info": {
      "name": "python"
    }
  },
  "nbformat": 4,
  "nbformat_minor": 0
}